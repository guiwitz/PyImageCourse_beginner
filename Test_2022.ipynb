{
 "cells": [
  {
   "cell_type": "markdown",
   "id": "aaf832a7-76a0-4006-8dec-d8cfedfaaf20",
   "metadata": {},
   "source": [
    "# 2022 Test for Workshop in image processing with Python\n",
    "\n",
    "Write your answers as code in one or multiple cells below each question. Check that your code works by executing each cell. If your code solves the problem you get all points. If your code does not work or you are not confident in your answer, you can add comments describing your code and get up to half the points of the question.\n",
    "\n",
    "For some questions, basic data are provided to you through an initial cell that you have to execute to be able to use these data.\n",
    "\n",
    "To avoid that anyone gets completely stuck because of wrongly imported modules, you can import all the necessary ones by executing the cell below. Be aware of the abbreviations used (np, pd, plt)."
   ]
  },
  {
   "cell_type": "code",
   "execution_count": null,
   "id": "a823645c-e9ee-4c3d-acf1-6ecb7835b4e4",
   "metadata": {},
   "outputs": [],
   "source": [
    "import numpy as np\n",
    "import pandas as pd\n",
    "import skimage\n",
    "import skimage.io\n",
    "import skimage.filters\n",
    "import skimage.measure\n",
    "import matplotlib.pyplot as plt"
   ]
  },
  {
   "cell_type": "markdown",
   "id": "b5a6fdc8-67b5-4e3c-9369-f55fcf653bf3",
   "metadata": {},
   "source": [
    "## 1. Basic Python\n",
    "\n",
    "- Define a function which takes two numbers $x$ and $y$ and returns the value $x^y$.\n",
    "- Test it with values $x=3$ and $y=4$."
   ]
  },
  {
   "cell_type": "markdown",
   "id": "47bd1aca-5bb7-4e17-9ba6-beffa5c72467",
   "metadata": {},
   "source": [
    "## 2. Images as arrays\n",
    "\n",
    "- Import the image that you can find at this address: https://cildata.crbs.ucsd.edu/media/images/42451/42451.tif\n",
    "- Find the dimensions (shape) of the image\n",
    "- Plot the image with matplotlib's ```imshow``` function\n",
    "- The image has multiple channels. Using slicing create a new variable that only contains the blue channel (third channel)"
   ]
  },
  {
   "cell_type": "markdown",
   "id": "8235ce9d-bc37-4370-8cf2-76ddbc138460",
   "metadata": {},
   "source": [
    "## 3. Slicing and operations\n",
    "\n",
    "- Import the image from here: https://github.com/guiwitz/PyImageCourse_beginner/raw/test2022/Data_test/image_nuclei.tif\n",
    "- Create a cropped version of that image by selecting the rows 400 to 650 and columns 300 to 600\n",
    "- Compute the mean intensity of the cropped image"
   ]
  },
  {
   "cell_type": "markdown",
   "id": "8b6244db-25f8-42ba-88d4-692f3cb88f4c",
   "metadata": {},
   "source": [
    "## 4. Thresholding\n",
    "\n",
    "Using again the full nuclei image from the previous exercise (https://github.com/guiwitz/PyImageCourse_beginner/raw/test2022/Data_test/image_nuclei.tif):\n",
    "\n",
    "- Create a mask of the image by using an automated computation of the threshold value via the Li method\n",
    "- Show the resulting mask\n",
    "- Using logical indexing, recover a list of the pixels that belong to the objects in the mask\n",
    "- Compute the **median** of these pixels"
   ]
  },
  {
   "cell_type": "markdown",
   "id": "3c380f8e-6617-4188-9522-fd4b67c6a8d0",
   "metadata": {},
   "source": [
    "## 5. Filtering\n",
    "\n",
    "- Filter the same nuclei image (https://github.com/guiwitz/PyImageCourse_beginner/raw/test2022/Data_test/image_nuclei.tif) with a Gaussian filter with ```sigma=5``` and plot the resulting image\n",
    "- Import the mask image of a single nucleus from here: 'https://github.com/guiwitz/PyImageCourse_beginner/raw/test2022/Data_test/nuclei_mask_small.tif. \n",
    "- Use a morphological filter to fill the small holes that you can see in the object in the middle of the image. If necessary remember that you can use the ```footprint``` option to specify the filter shape"
   ]
  },
  {
   "cell_type": "markdown",
   "id": "fea09884-0adb-462d-a26d-071aaa95ea3b",
   "metadata": {},
   "source": [
    "## 6. Measuring\n",
    "\n",
    "- Import the complete image stack from here: https://cildata.crbs.ucsd.edu/media/images/42451/42451.tif\n",
    "- Import a mask for the nuclei channel (third channel, blue) here: https://github.com/guiwitz/PyImageCourse_beginner/raw/test2022/Data_test/nuclei_mask.tif\n",
    "- Using these two images, measure the area of the nuclei in the image as well as the mean intensity inside them in the **red channel** (first channel). Don't forget that to perform measurements on binary objects, those objects need to be labeled first."
   ]
  },
  {
   "cell_type": "code",
   "execution_count": null,
   "id": "1d4d2171-9dc2-4e32-8445-c29a910e8c01",
   "metadata": {},
   "outputs": [],
   "source": []
  }
 ],
 "metadata": {
  "kernelspec": {
   "display_name": "Python 3 (ipykernel)",
   "language": "python",
   "name": "python3"
  },
  "language_info": {
   "codemirror_mode": {
    "name": "ipython",
    "version": 3
   },
   "file_extension": ".py",
   "mimetype": "text/x-python",
   "name": "python",
   "nbconvert_exporter": "python",
   "pygments_lexer": "ipython3",
   "version": "3.9.10"
  }
 },
 "nbformat": 4,
 "nbformat_minor": 5
}
