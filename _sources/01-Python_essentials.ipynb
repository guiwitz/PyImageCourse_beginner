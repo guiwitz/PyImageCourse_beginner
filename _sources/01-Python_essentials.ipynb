{
 "cells": [
  {
   "cell_type": "markdown",
   "id": "66ce7a2d-ac19-4dbf-9690-e6ccfe41b4cf",
   "metadata": {},
   "source": [
    "# 1. Python and notebook basics\n",
    "\n",
    "In this first chapter, we will cover the very essentials of Python and notebooks such as creating a variable, importing packages, using functions, seeing how variables behave in the notebook etc. We will see more details on some of these topics, but this very short introduction will then allow us to quickly dive into more applied and image processing specific topics without having to go through a full Python introduction."
   ]
  },
  {
   "cell_type": "markdown",
   "id": "7546afa1-eac9-4f3d-985f-2416fc82eff3",
   "metadata": {},
   "source": [
    "## Variables\n",
    "\n",
    "Like we would do in mathematics when we define variables in equations such as $x=3$, we can do the same in all programming languages. Python has one of the simplest syntax for this, i.e. exactly as we would do it naturally. Let's define a variable in the next cell:"
   ]
  },
  {
   "cell_type": "code",
   "execution_count": 3,
   "id": "a5f45def-9bf7-4a6a-a000-f068cc84d802",
   "metadata": {},
   "outputs": [],
   "source": [
    "a = 3"
   ]
  },
  {
   "cell_type": "markdown",
   "id": "6a062da5-000e-4ec2-b2c7-4cc9e541b5c7",
   "metadata": {},
   "source": [
    "As long as we **don't execute the cell** using Shift+Enter or the play button in the menu, the above cell is **purely text**. We can close our Jupyter session and then re-start it and this line of text will still be there. However other parts of the notebook are not \"aware\" that this variable has been defined and so we can't re-use anywhere else. For example if we type ```a``` again and execute the cell, we get an error:"
   ]
  },
  {
   "cell_type": "code",
   "execution_count": 1,
   "id": "b2b537a5-b5d3-4660-aeb9-34d817ac82bb",
   "metadata": {},
   "outputs": [
    {
     "ename": "NameError",
     "evalue": "name 'a' is not defined",
     "output_type": "error",
     "traceback": [
      "\u001b[0;31m---------------------------------------------------------------------------\u001b[0m",
      "\u001b[0;31mNameError\u001b[0m                                 Traceback (most recent call last)",
      "\u001b[0;32m/var/folders/mk/632_7fgs4v374qc935pvf9v00000gn/T/ipykernel_18079/2167009006.py\u001b[0m in \u001b[0;36m<cell line: 1>\u001b[0;34m()\u001b[0m\n\u001b[0;32m----> 1\u001b[0;31m \u001b[0ma\u001b[0m\u001b[0;34m\u001b[0m\u001b[0;34m\u001b[0m\u001b[0m\n\u001b[0m",
      "\u001b[0;31mNameError\u001b[0m: name 'a' is not defined"
     ]
    }
   ],
   "source": [
    "a"
   ]
  },
  {
   "cell_type": "markdown",
   "id": "febfd6ec-ef2e-4546-be70-f392634dd171",
   "metadata": {},
   "source": [
    "So we actually need to **execute** the cell so that Python reads that line and executes the command. Here it's a very simple command that just says that the value of the variable ```a``` is three. So let's go back to the cell that defined ```a``` and now execute it (click in the cell and hit Shift+Enter). Now this variable is **stored in the computing memory** of the computer and we can re-use it anywhere in the notebook (but only in **this** notebook)!\n",
    "\n",
    "We can again just type ```a```"
   ]
  },
  {
   "cell_type": "code",
   "execution_count": 4,
   "id": "0e707ec1-816c-4eb3-868f-7981c09e0544",
   "metadata": {},
   "outputs": [
    {
     "data": {
      "text/plain": [
       "3"
      ]
     },
     "execution_count": 4,
     "metadata": {},
     "output_type": "execute_result"
    }
   ],
   "source": [
    "a"
   ]
  },
  {
   "cell_type": "markdown",
   "id": "2ea635b0-bb5f-4ffb-a956-6df964776c3b",
   "metadata": {},
   "source": [
    "We see that now we get an *output* with the value three. Most variables display an output when they are not involved in an operation. For example the line ```a=3``` didn't have an output.\n",
    "\n",
    "Now we can define other variables in a new cell. Note that we can put as **many lines** of commands as we want in a single cell. Each command just need to be on a new line."
   ]
  },
  {
   "cell_type": "code",
   "execution_count": 3,
   "id": "bd710972-659a-493c-9494-4f5b5b988ce5",
   "metadata": {},
   "outputs": [],
   "source": [
    "b = 5\n",
    "c = 2"
   ]
  },
  {
   "cell_type": "markdown",
   "id": "481a39ad-ba13-4622-b7f1-6d9fec4debac",
   "metadata": {},
   "source": [
    "As variables are defined for the entire notebook we can combine information that comes from multiple cells. Here we do some basic mathematics:"
   ]
  },
  {
   "cell_type": "code",
   "execution_count": 4,
   "id": "d0dfab15-7155-4799-b2ba-39bc72034b44",
   "metadata": {},
   "outputs": [
    {
     "data": {
      "text/plain": [
       "8"
      ]
     },
     "execution_count": 4,
     "metadata": {},
     "output_type": "execute_result"
    }
   ],
   "source": [
    "a + b"
   ]
  },
  {
   "cell_type": "markdown",
   "id": "30bd6648-6a78-4439-b01c-2c5e75a7e1b7",
   "metadata": {},
   "source": [
    "Here we only see the output. We can't re-use that ouput for further calculations as we didn't define a new variable to contain it. Here we do it:"
   ]
  },
  {
   "cell_type": "code",
   "execution_count": 5,
   "id": "d8d7d721-0b21-45ac-a06d-900badb3bb25",
   "metadata": {},
   "outputs": [],
   "source": [
    "d = a + b"
   ]
  },
  {
   "cell_type": "code",
   "execution_count": 6,
   "id": "071dd223-47e3-489b-96f0-7c0745940a29",
   "metadata": {},
   "outputs": [
    {
     "data": {
      "text/plain": [
       "8"
      ]
     },
     "execution_count": 6,
     "metadata": {},
     "output_type": "execute_result"
    }
   ],
   "source": [
    "d"
   ]
  },
  {
   "cell_type": "markdown",
   "id": "09779ac4-e719-4a7d-b101-b23c68c60e70",
   "metadata": {},
   "source": [
    "```d``` is now a new variable. It is purely numerical and not a mathematical formula as the above cell could make you believe. For example if we change the value of ```a```:"
   ]
  },
  {
   "cell_type": "code",
   "execution_count": 7,
   "id": "b13f612f-f9a2-4bf0-8dae-8a9b44e29a00",
   "metadata": {},
   "outputs": [],
   "source": [
    "a = 100"
   ]
  },
  {
   "cell_type": "markdown",
   "id": "039d2d0d-7e53-4ddb-82ca-f46c6c27bfbf",
   "metadata": {},
   "source": [
    "and check the value of ```d```:"
   ]
  },
  {
   "cell_type": "code",
   "execution_count": 10,
   "id": "1c3757c0-1896-4e4c-8f62-5980198fce43",
   "metadata": {},
   "outputs": [
    {
     "data": {
      "text/plain": [
       "8"
      ]
     },
     "execution_count": 10,
     "metadata": {},
     "output_type": "execute_result"
    }
   ],
   "source": [
    "d"
   ]
  },
  {
   "cell_type": "markdown",
   "id": "af99b1fd-33ff-43f8-a0fb-c1433bba7c99",
   "metadata": {},
   "source": [
    "it has not change. We would have to rerun the operation and assign it again to ```d``` for it to update:"
   ]
  },
  {
   "cell_type": "code",
   "execution_count": 11,
   "id": "65deff88-bef2-457d-9eef-7fe312a6552c",
   "metadata": {},
   "outputs": [
    {
     "data": {
      "text/plain": [
       "105"
      ]
     },
     "execution_count": 11,
     "metadata": {},
     "output_type": "execute_result"
    }
   ],
   "source": [
    "d = a + b\n",
    "d"
   ]
  },
  {
   "cell_type": "markdown",
   "id": "d7c10065-ad58-4f8b-827d-c77408c516d6",
   "metadata": {},
   "source": [
    "We will see many other types of variables during the course. Some are just other types of data, for example we can define a **text** variable by using quotes ```' '``` around a given text:"
   ]
  },
  {
   "cell_type": "code",
   "execution_count": 13,
   "id": "0f036165-5fbf-420e-bbc3-7254f9206eba",
   "metadata": {},
   "outputs": [
    {
     "data": {
      "text/plain": [
       "'This is my text'"
      ]
     },
     "execution_count": 13,
     "metadata": {},
     "output_type": "execute_result"
    }
   ],
   "source": [
    "my_text = 'This is my text'\n",
    "my_text"
   ]
  },
  {
   "cell_type": "markdown",
   "id": "55f65a6f-bf8f-4ae4-a4af-095978a34440",
   "metadata": {},
   "source": [
    "Others can contain multiple elements like lists:"
   ]
  },
  {
   "cell_type": "code",
   "execution_count": 21,
   "id": "d822c69a-b2af-480d-a036-040657cca21b",
   "metadata": {},
   "outputs": [
    {
     "data": {
      "text/plain": [
       "[3, 8, 5, 9]"
      ]
     },
     "execution_count": 21,
     "metadata": {},
     "output_type": "execute_result"
    }
   ],
   "source": [
    "my_list = [3, 8, 5, 9]\n",
    "my_list"
   ]
  },
  {
   "cell_type": "markdown",
   "id": "fba2dafb-f50d-4e8c-9da0-88e6424a487d",
   "metadata": {},
   "source": [
    "but more on these data structures later..."
   ]
  },
  {
   "cell_type": "markdown",
   "id": "c6f0bbef-e9fc-4406-9bd4-c7d65a563bd2",
   "metadata": {},
   "source": [
    "## Functions\n",
    "\n",
    "We have seen that we could define variables and do some basic operations with them. If we want to go beyond simple arithmetic we need more **complex functions** that can operate on variables. Imagine for example that we need a function $f(x, a, b) = a * x + b$. For this we can use and **define functions**. Here's how we can define the previous function:"
   ]
  },
  {
   "cell_type": "code",
   "execution_count": 17,
   "id": "aa794e59-2f28-4115-8fc3-a78a21b0fdcd",
   "metadata": {},
   "outputs": [],
   "source": [
    "def my_fun(x, a, b):\n",
    "    out = a * x + b\n",
    "    return out"
   ]
  },
  {
   "cell_type": "markdown",
   "id": "293df537-995e-459d-b58a-1e6d5ee917cc",
   "metadata": {},
   "source": [
    "We see a series of Python rules to define a function:\n",
    "\n",
    "- we use the word **```def```** to signal that we are creating a function\n",
    "- we pick a **function name**, here ```my_fun```\n",
    "- we open the **parenthesis** and put all our **variables ```x```, ```a```, ```b```** in there, just like when we do mathematics\n",
    "- we do some operation inside the function. **Inside** the function is signal with the **indentation**: everything that belong inside the function (there could be many more lines) is shifted by a *single tab* or *three space* to the right\n",
    "- we use the word **```return```** to tell what is the output of the function, here the variable ```out```\n",
    "\n",
    "We can now use this function as if we were doing mathematics: we pick a a value for the three parameters e.g. $f(3, 2, 5)$"
   ]
  },
  {
   "cell_type": "code",
   "execution_count": 26,
   "id": "69c080f7-8963-490d-8777-45ea5a41c3dc",
   "metadata": {},
   "outputs": [
    {
     "data": {
      "text/plain": [
       "11"
      ]
     },
     "execution_count": 26,
     "metadata": {},
     "output_type": "execute_result"
    }
   ],
   "source": [
    "my_fun(3, 2, 5)"
   ]
  },
  {
   "cell_type": "markdown",
   "id": "8415f62d-f481-471b-80a7-2e4ce688c41d",
   "metadata": {},
   "source": [
    "Note that **some functions are defined by default** in Python. For example if I define a variable which is a string:"
   ]
  },
  {
   "cell_type": "code",
   "execution_count": 15,
   "id": "9e804903-00c7-49af-8bd0-c57ac334ca65",
   "metadata": {},
   "outputs": [],
   "source": [
    "my_text = 'This is my text'"
   ]
  },
  {
   "cell_type": "markdown",
   "id": "e4db45f7-ad99-4d09-bbeb-37e4e5ea4cdc",
   "metadata": {},
   "source": [
    "I can count the number of characters in this text using the ```len()``` function which comes from base Python:"
   ]
  },
  {
   "cell_type": "code",
   "execution_count": 16,
   "id": "9b5deb40-70ae-47b7-b73a-a5e7413673fd",
   "metadata": {},
   "outputs": [
    {
     "data": {
      "text/plain": [
       "15"
      ]
     },
     "execution_count": 16,
     "metadata": {},
     "output_type": "execute_result"
    }
   ],
   "source": [
    "len(my_text)"
   ]
  },
  {
   "cell_type": "markdown",
   "id": "440ade9f-138a-44ba-8915-e32c354cfd8a",
   "metadata": {},
   "source": [
    "The ```len``` function has not been manually defined within a ```def``` statement, it simply exist by default in the Python language."
   ]
  },
  {
   "cell_type": "markdown",
   "id": "7c3c510c-f931-42c3-9dd3-11c81f791b6c",
   "metadata": {},
   "source": [
    "## Variables as objects\n",
    "\n",
    "In the Python world, variables are not \"just\" variables, they are actually more complex objects. So for example our variable ```my_text``` does indeed contain the text ```This is my text``` but it contains also additional features. The way to access those features is to use the dot notation ```my_text.some_feature```. There are two types of featues:\n",
    "- functions, called here methods, that do some computation or modify the variable itself\n",
    "- properties, that contain information about the variable\n",
    "\n",
    "For example the object ```my_text``` has a function attached to it that allows us to put all letters to lower case:"
   ]
  },
  {
   "cell_type": "code",
   "execution_count": 36,
   "id": "5d7d85c5-2495-4584-b66a-463e39c04a93",
   "metadata": {},
   "outputs": [
    {
     "data": {
      "text/plain": [
       "'This is my text'"
      ]
     },
     "execution_count": 36,
     "metadata": {},
     "output_type": "execute_result"
    }
   ],
   "source": [
    "my_text"
   ]
  },
  {
   "cell_type": "code",
   "execution_count": 37,
   "id": "7b90033f-9941-48c9-93c5-c816a8331b07",
   "metadata": {},
   "outputs": [
    {
     "data": {
      "text/plain": [
       "'this is my text'"
      ]
     },
     "execution_count": 37,
     "metadata": {},
     "output_type": "execute_result"
    }
   ],
   "source": [
    "my_text.lower()"
   ]
  },
  {
   "cell_type": "markdown",
   "id": "7dcb5ca3-33c8-4558-a9e6-297095e8e285",
   "metadata": {},
   "source": [
    "If we define a complex number:"
   ]
  },
  {
   "cell_type": "code",
   "execution_count": 38,
   "id": "e3559061-5778-4e88-a076-26e721085dbf",
   "metadata": {},
   "outputs": [],
   "source": [
    "a = 3 + 5j"
   ]
  },
  {
   "cell_type": "markdown",
   "id": "9f4a5d9c-6a96-4cea-bb65-aa2333e30433",
   "metadata": {},
   "source": [
    "then we can access the property ```real``` that gives us only the real part of the number:"
   ]
  },
  {
   "cell_type": "code",
   "execution_count": 41,
   "id": "4578d822-c838-4cc0-8137-70335596696e",
   "metadata": {},
   "outputs": [
    {
     "data": {
      "text/plain": [
       "3.0"
      ]
     },
     "execution_count": 41,
     "metadata": {},
     "output_type": "execute_result"
    }
   ],
   "source": [
    "a.real"
   ]
  },
  {
   "cell_type": "markdown",
   "id": "e9432ded-adee-4d63-a955-f533c3ccfdc4",
   "metadata": {},
   "source": [
    "Note that when we use a method (function) we need to use the parenthesis, just like for regular functions, while for properties we don't."
   ]
  },
  {
   "cell_type": "markdown",
   "id": "2868cd34-275f-459f-a351-dcf5e5da8729",
   "metadata": {},
   "source": [
    "## Packages\n",
    "\n",
    "In the examples above, we either defined a function ourselves or used one generally accessible in base Python but there is a third solution: **external packages**. These packages are collections of functions used in a specific domain that are made available to everyone via specialized online repositories. For example we will be using in this course a package called [scikit-image](https://scikit-image.org/) that implements a large number of functions for image processing. For example if we want to filter an image stored in a variable ```im_in``` with a median filter, we can then just use the ```median()``` function of scikit-image and apply it to an image ```im_out = median(im_in)```. The question is now: how do we access these functions?\n",
    "\n",
    "### Importing functions\n",
    "\n",
    "The answer is that we have to **import** the functions we want to use in a *given notebook* from a package to be able to use them. First the package needs to be **installed**. One of the most popular place where to find such packages is the PyPi repository. We can install packages from there using the following command either in a **terminal or directly in the notebook**. For example for [scikit-image](https://pypi.org/project/scikit-image/):\n"
   ]
  },
  {
   "cell_type": "code",
   "execution_count": 20,
   "id": "469703da-638f-4048-8f35-004aa9c723e4",
   "metadata": {},
   "outputs": [
    {
     "name": "stdout",
     "output_type": "stream",
     "text": [
      "Requirement already satisfied: scikit-image in /Users/gw18g940/mambaforge/envs/improc_beginner/lib/python3.9/site-packages (0.19.2)\n",
      "Requirement already satisfied: networkx>=2.2 in /Users/gw18g940/mambaforge/envs/improc_beginner/lib/python3.9/site-packages (from scikit-image) (2.7.1)\n",
      "Requirement already satisfied: tifffile>=2019.7.26 in /Users/gw18g940/mambaforge/envs/improc_beginner/lib/python3.9/site-packages (from scikit-image) (2022.2.9)\n",
      "Requirement already satisfied: PyWavelets>=1.1.1 in /Users/gw18g940/mambaforge/envs/improc_beginner/lib/python3.9/site-packages (from scikit-image) (1.2.0)\n",
      "Requirement already satisfied: pillow!=7.1.0,!=7.1.1,!=8.3.0,>=6.1.0 in /Users/gw18g940/mambaforge/envs/improc_beginner/lib/python3.9/site-packages (from scikit-image) (9.0.1)\n",
      "Requirement already satisfied: scipy>=1.4.1 in /Users/gw18g940/mambaforge/envs/improc_beginner/lib/python3.9/site-packages (from scikit-image) (1.8.0)\n",
      "Requirement already satisfied: packaging>=20.0 in /Users/gw18g940/mambaforge/envs/improc_beginner/lib/python3.9/site-packages (from scikit-image) (21.3)\n",
      "Requirement already satisfied: imageio>=2.4.1 in /Users/gw18g940/mambaforge/envs/improc_beginner/lib/python3.9/site-packages (from scikit-image) (2.16.1)\n",
      "Requirement already satisfied: numpy>=1.17.0 in /Users/gw18g940/mambaforge/envs/improc_beginner/lib/python3.9/site-packages (from scikit-image) (1.22.2)\n",
      "Requirement already satisfied: pyparsing!=3.0.5,>=2.0.2 in /Users/gw18g940/mambaforge/envs/improc_beginner/lib/python3.9/site-packages (from packaging>=20.0->scikit-image) (3.0.7)\n",
      "Note: you may need to restart the kernel to use updated packages.\n"
     ]
    }
   ],
   "source": [
    "pip install scikit-image"
   ]
  },
  {
   "cell_type": "markdown",
   "id": "54598c4a-3832-4eab-af05-edf8501e94a6",
   "metadata": {},
   "source": [
    "Once installed we can **import** the packakge in a notebook in the following way (note that the name of the package is scikit-image, but in code we use an abbreviated name ```skimage```):"
   ]
  },
  {
   "cell_type": "code",
   "execution_count": 12,
   "id": "d6ebba2b-4564-48fb-ae4c-f00ee75025b6",
   "metadata": {},
   "outputs": [],
   "source": [
    "import skimage"
   ]
  },
  {
   "cell_type": "markdown",
   "id": "8647423d-6129-4a29-a7ff-129f76b9ce97",
   "metadata": {},
   "source": [
    "The import is valid for the **entire notebook**, we don't need that line in each cell. \n",
    "\n",
    "Now that we have imported the package we can access all function that we define in it using a *dot notation* ```skimage.myfun```. Most packages are organized into submodules and in that case to access functions of a submodule we use ```skimage.my_submodule.myfun```.\n",
    "\n",
    "To come back to the previous example: the ```median``` filtering function is in the ```filters``` submodule that we could now use as:\n",
    "\n",
    "```python\n",
    "im_out = skimage.filters.median(im_in)\n",
    "```"
   ]
  },
  {
   "cell_type": "markdown",
   "id": "e28bad31-26fc-4c87-a8e3-d08ab8238f66",
   "metadata": {},
   "source": [
    "We cannot execute this command as the variables ```im_in``` and ```im_out``` are not yet defined.\n",
    "\n",
    "Note that there are multiple ways to import packages. For example we could give another name to the package, using the ```as``` statement:"
   ]
  },
  {
   "cell_type": "code",
   "execution_count": 29,
   "id": "b2517d37-86a2-4145-921e-8ad6dd470ce2",
   "metadata": {},
   "outputs": [],
   "source": [
    "import skimage as sk"
   ]
  },
  {
   "cell_type": "markdown",
   "id": "8cb74c60-b4f1-4ea8-8b45-35de0a539699",
   "metadata": {},
   "source": [
    "Nowe if we want to use the ```median``` function in the filters sumodule we would write:\n",
    "\n",
    "```python\n",
    "im_out = sk.filters.median(im_in)\n",
    "```"
   ]
  },
  {
   "cell_type": "markdown",
   "id": "ede758ba-c412-4525-8a8d-c12ac275503c",
   "metadata": {},
   "source": [
    "We can also import only a certain submodule using:"
   ]
  },
  {
   "cell_type": "code",
   "execution_count": 30,
   "id": "55b0923c-0207-4361-9dae-015511653f01",
   "metadata": {},
   "outputs": [],
   "source": [
    "from skimage import filters"
   ]
  },
  {
   "cell_type": "markdown",
   "id": "989b8eff-049f-4e43-8d3c-2220fb9688ad",
   "metadata": {},
   "source": [
    "Now we have to write:\n",
    "\n",
    "```python\n",
    "im_out = filters.median(im_in)\n",
    "```"
   ]
  },
  {
   "cell_type": "markdown",
   "id": "27ed60ff-5fa2-4df6-a5e5-7c085b99e144",
   "metadata": {},
   "source": [
    "Finally, we can import a **single** function like this:"
   ]
  },
  {
   "cell_type": "code",
   "execution_count": 1,
   "id": "85755d48-e703-44a4-a664-3d3024dbf4f9",
   "metadata": {},
   "outputs": [],
   "source": [
    "from skimage.filters import median"
   ]
  },
  {
   "cell_type": "markdown",
   "id": "72bebe55-7343-417f-b473-404e632a073a",
   "metadata": {},
   "source": [
    "and now we have to write:\n",
    "\n",
    "```python\n",
    "im_out = median(im_in)\n",
    "```"
   ]
  },
  {
   "cell_type": "markdown",
   "id": "6c214d83-b39a-4515-85ee-9331fbc8eb00",
   "metadata": {},
   "source": [
    "## Structures\n",
    "\n",
    "As mentioned above we cannot execute those various lines like ```im_out = median(im_in)``` because the image variable ```im_in``` is not yet defined. This variable should be an image, i.e. it cannot be a single number like in ```a=3``` but an entire grid of values, each value being one pixel. We therefore need a specific variable type that can contain such a structure.\n",
    "\n",
    "We have already seen that we can define different types of variables. Single numbers:"
   ]
  },
  {
   "cell_type": "code",
   "execution_count": 3,
   "id": "0477ff6d-aae1-4deb-86e3-4b8edc6a1a16",
   "metadata": {},
   "outputs": [],
   "source": [
    "a = 3"
   ]
  },
  {
   "cell_type": "markdown",
   "id": "5778b708-7733-41f1-a1c9-689d5b66022f",
   "metadata": {},
   "source": [
    "Text:"
   ]
  },
  {
   "cell_type": "code",
   "execution_count": 4,
   "id": "7b494f9f-bf02-4015-8a18-965b1290f9d2",
   "metadata": {},
   "outputs": [],
   "source": [
    "b = 'my text'"
   ]
  },
  {
   "cell_type": "markdown",
   "id": "3210c9fb-27d0-452a-b180-b010f821951a",
   "metadata": {},
   "source": [
    "or even lists of numbers:"
   ]
  },
  {
   "cell_type": "code",
   "execution_count": 5,
   "id": "86eaee86-53b7-436a-bf0c-33db593b8485",
   "metadata": {},
   "outputs": [],
   "source": [
    "c = [6,2,8,9]"
   ]
  },
  {
   "cell_type": "markdown",
   "id": "f0a1e843-9bad-4528-81f7-dad4a5fe0ad8",
   "metadata": {},
   "source": [
    "This last type of variable is called a ```list``` in Python and is one of the **structures** that is available in Python. If we think of an image that has multiple lines and columns of pixels, we could now imagine that we can represent it as a list of lists, each single list being e.g. one row pf pixels. For example a 3 x 3 image could be:"
   ]
  },
  {
   "cell_type": "code",
   "execution_count": 10,
   "id": "7b0eba2b-0301-410c-b664-41e3b229b3e2",
   "metadata": {},
   "outputs": [
    {
     "data": {
      "text/plain": [
       "[[4, 8, 7], [6, 4, 3], [5, 3, 7]]"
      ]
     },
     "execution_count": 10,
     "metadata": {},
     "output_type": "execute_result"
    }
   ],
   "source": [
    "my_image = [[4,8,7], [6,4,3], [5,3,7]]\n",
    "my_image"
   ]
  },
  {
   "cell_type": "markdown",
   "id": "8bc9886f-626a-40e8-9444-dccf8f31cd03",
   "metadata": {},
   "source": [
    "While in principle we could use a ```list``` for this, computations on such objects would be very slow. For example if we wanted to do background correction and subtract a given value from our image, effectively we would have to go through each element of our list (each pixel) one by one and sequentially remove the background from each pixel. If the background is 3 we would have therefore to compute:\n",
    "- 4-3\n",
    "- 8-3\n",
    "- 7-3\n",
    "- 6-3\n",
    "\n",
    "etc. Since operations are done sequentially this would be very slow as we couldn't exploit the fact that most computers have multiple processors. Also it would be tedious to write such an operation.\n",
    "\n",
    "To fix this, most scientific areas that use lists of numbers of some kind (time-series, images, measurements etc.) resort to an **external package** called ```Numpy``` which offers a **computationally efficient list** called an **array**.\n",
    "\n",
    "To make this clearer we now import an image in our notebook to see such a structure. We will use a **function** from the scikit-image package to do this import. That function called ```imread``` is located in the submodule called ```io```. Remember that we can then access this function with ```skimage.io.imread()```. Just like we previously defined a function $f(x, a, b)$ that took inputs $x, a, b$, this ```imread()``` function also needs an input. Here it is just the **location of the image**, and that location can either be the **path** to the file on our computer or a **url** of an online place where the image is stored. Here we use an image that can be found at https://github.com/guiwitz/PyImageCourse_beginner/raw/master/images/19838_1252_F8_1.tif. As you can see it is a tif file. This address that we are using as an input should be formatted as text:"
   ]
  },
  {
   "cell_type": "code",
   "execution_count": 10,
   "id": "838d09e0-9bc3-4d4d-9db3-51135198b013",
   "metadata": {},
   "outputs": [],
   "source": [
    "my_address = 'https://github.com/guiwitz/PyImageCourse_beginner/raw/master/images/19838_1252_F8_1.tif'"
   ]
  },
  {
   "cell_type": "markdown",
   "id": "2682bb17-0a31-4084-854c-3aaf68f87553",
   "metadata": {},
   "source": [
    "Now we can call our function:"
   ]
  },
  {
   "cell_type": "code",
   "execution_count": 13,
   "id": "5174f922-9abc-47aa-b467-635157620967",
   "metadata": {},
   "outputs": [
    {
     "data": {
      "text/plain": [
       "array([[[42, 48,  0],\n",
       "        [45, 41,  0],\n",
       "        [47, 21,  0],\n",
       "        ...,\n",
       "        [78, 16,  1],\n",
       "        [57, 14,  0],\n",
       "        [53,  7,  0]],\n",
       "\n",
       "       [[42, 57,  0],\n",
       "        [37, 40,  0],\n",
       "        [38, 30,  0],\n",
       "        ...,\n",
       "        [97,  7,  0],\n",
       "        [67, 12,  0],\n",
       "        [57,  9,  1]],\n",
       "\n",
       "       [[42, 55,  0],\n",
       "        [44, 40,  0],\n",
       "        [31, 29,  0],\n",
       "        ...,\n",
       "        [79,  0,  0],\n",
       "        [67,  1,  0],\n",
       "        [61,  1,  0]],\n",
       "\n",
       "       ...,\n",
       "\n",
       "       [[ 0,  0,  0],\n",
       "        [ 0,  0,  0],\n",
       "        [ 0,  0,  0],\n",
       "        ...,\n",
       "        [65, 37,  0],\n",
       "        [54, 37,  0],\n",
       "        [47, 49,  0]],\n",
       "\n",
       "       [[ 0,  0,  0],\n",
       "        [ 0,  0,  0],\n",
       "        [ 0,  0,  0],\n",
       "        ...,\n",
       "        [75, 41,  0],\n",
       "        [59, 44,  0],\n",
       "        [54, 74,  0]],\n",
       "\n",
       "       [[ 0,  0,  0],\n",
       "        [ 0,  0,  0],\n",
       "        [ 0,  0,  0],\n",
       "        ...,\n",
       "        [82, 51,  0],\n",
       "        [62, 48,  0],\n",
       "        [57, 69,  0]]], dtype=uint8)"
      ]
     },
     "execution_count": 13,
     "metadata": {},
     "output_type": "execute_result"
    }
   ],
   "source": [
    "skimage.io.imread(my_address)"
   ]
  },
  {
   "cell_type": "markdown",
   "id": "e8c2d72b-44a4-47ac-b2af-ec8b477017e5",
   "metadata": {},
   "source": [
    "We see here an output which is what is returned by our function. It is as expected a list of numbers, and not all numbers are shown because the list is too long. We see that we also have ```[]``` to specify rows, columns etc. The main difference compared to our list of lists that we defined previously is the ```array``` indication at the very beginning of the list of numbers. This ```array``` indication tells us that we are dealing with a ```Numpy``` array, this alternative type of list of lists that will allow us to do efficient computations."
   ]
  },
  {
   "cell_type": "markdown",
   "id": "c1359344-b830-4c68-b7fc-c5df418f5f1b",
   "metadata": {},
   "source": [
    "## Plotting\n",
    "\n",
    "We will see a few ways to represent data during the course. Here we just want to have a quick look at the image we just imported. For plotting we will use yet another **external library** called Matplotlib. That library is extensively used in the Python world and offers extensive choices of plots. We will mainly use one **function** from the library to display images: ```imshow```. Again, to access that function, we first need to import the package. Here we need a specific submodule:"
   ]
  },
  {
   "cell_type": "code",
   "execution_count": 5,
   "id": "4a057722-abd7-4200-bf29-d31c098ae0c4",
   "metadata": {},
   "outputs": [],
   "source": [
    "import matplotlib.pyplot as plt"
   ]
  },
  {
   "cell_type": "markdown",
   "id": "dd8787ba-8fec-420d-9ec9-e3e532d2d7f4",
   "metadata": {},
   "source": [
    "Now we can use the ```plt.imshow()``` function. There are many options for plot, but we can use that function already by just passing an ```array``` as an input. First we need to assign the imported array to a variable:"
   ]
  },
  {
   "cell_type": "code",
   "execution_count": 11,
   "id": "8feb55fc-e904-4dba-9cef-226d9b5db67b",
   "metadata": {},
   "outputs": [],
   "source": [
    "import skimage.io\n",
    "\n",
    "image = skimage.io.imread(my_address)"
   ]
  },
  {
   "cell_type": "code",
   "execution_count": 12,
   "id": "3fc37e2b-b702-4ff4-a87a-9ecdfbd454fc",
   "metadata": {},
   "outputs": [
    {
     "data": {
      "image/png": "[encoded data removed]",
      "text/plain": [
       "<Figure size 432x288 with 1 Axes>"
      ]
     },
     "metadata": {
      "needs_background": "light"
     },
     "output_type": "display_data"
    }
   ],
   "source": [
    "plt.imshow(image);"
   ]
  },
  {
   "cell_type": "markdown",
   "id": "24c944a9-2601-40fd-ba27-f43567120cff",
   "metadata": {},
   "source": [
    "We see that we are dealing with a multi-channel image and can already distinguish cell nuclei (blue) and cytoplasm (red)."
   ]
  }
 ],
 "metadata": {
  "kernelspec": {
   "display_name": "Python 3 (ipykernel)",
   "language": "python",
   "name": "python3"
  },
  "language_info": {
   "codemirror_mode": {
    "name": "ipython",
    "version": 3
   },
   "file_extension": ".py",
   "mimetype": "text/x-python",
   "name": "python",
   "nbconvert_exporter": "python",
   "pygments_lexer": "ipython3",
   "version": "3.9.10"
  }
 },
 "nbformat": 4,
 "nbformat_minor": 5
}
