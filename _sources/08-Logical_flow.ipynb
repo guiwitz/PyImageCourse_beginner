{
 "cells": [
  {
   "cell_type": "markdown",
   "metadata": {
    "id": "iPgB54gg1AeI"
   },
   "source": [
    "# 8. Loops and conditions"
   ]
  },
  {
   "cell_type": "markdown",
   "metadata": {
    "id": "9Ppo23Fg1AeO"
   },
   "source": [
    "In the Pipeline notebook, we learned how to package our workflow into a function. To make the pipeline work correctly we discovered that we needed:\n",
    "\n",
    "- a way to decide if we wanted to perform a certain action (plotting) or not using ```if```\n",
    "- repeatedly use the same function for multiple images using ```for```\n",
    "\n",
    "Here we explore more in details how these two code organizing feature work."
   ]
  },
  {
   "cell_type": "markdown",
   "metadata": {
    "id": "FDu47poK1AeZ"
   },
   "source": [
    "## Conditional statements"
   ]
  },
  {
   "cell_type": "markdown",
   "metadata": {
    "id": "Kvlsk7Oz1AeZ"
   },
   "source": [
    "When automating operations, we sometimes want to make sure that we only do the operation in some particular case. We say \"if this condition is true, then do the operation\". The way to write this in Python is with an ```if``` statement. The syntax is similar to the for loop with the ```if``` statement followed by a condition and ```:``` and then an indented (shifted to the right) block:"
   ]
  },
  {
   "cell_type": "code",
   "execution_count": 3,
   "metadata": {
    "executionInfo": {
     "elapsed": 1459,
     "status": "ok",
     "timestamp": 1616247235263,
     "user": {
      "displayName": "Guillaume Witz",
      "photoUrl": "https://lh3.googleusercontent.com/a-/AOh14GgT0K2JVYzEsjzsS5nhkUVjUrSIJ5jHzXnBoYrmVf8=s64",
      "userId": "16033870147214403532"
     },
     "user_tz": -60
    },
    "id": "t_MQX6b31AeZ"
   },
   "outputs": [],
   "source": [
    "a = 3"
   ]
  },
  {
   "cell_type": "code",
   "execution_count": 4,
   "metadata": {
    "colab": {
     "base_uri": "https://localhost:8080/"
    },
    "executionInfo": {
     "elapsed": 1454,
     "status": "ok",
     "timestamp": 1616247235267,
     "user": {
      "displayName": "Guillaume Witz",
      "photoUrl": "https://lh3.googleusercontent.com/a-/AOh14GgT0K2JVYzEsjzsS5nhkUVjUrSIJ5jHzXnBoYrmVf8=s64",
      "userId": "16033870147214403532"
     },
     "user_tz": -60
    },
    "id": "5l57_kVO1AeZ",
    "outputId": "3fffb623-df33-4669-c6f1-00393e66bef7"
   },
   "outputs": [
    {
     "name": "stdout",
     "output_type": "stream",
     "text": [
      "yes\n"
     ]
    }
   ],
   "source": [
    "if a < 5:\n",
    "    print('yes')"
   ]
  },
  {
   "cell_type": "markdown",
   "metadata": {
    "id": "8yJkVW4e1AeZ"
   },
   "source": [
    "If we want to execute another operation if the condition is not met we can use an elif statement:"
   ]
  },
  {
   "cell_type": "code",
   "execution_count": 5,
   "metadata": {
    "colab": {
     "base_uri": "https://localhost:8080/"
    },
    "executionInfo": {
     "elapsed": 1447,
     "status": "ok",
     "timestamp": 1616247235267,
     "user": {
      "displayName": "Guillaume Witz",
      "photoUrl": "https://lh3.googleusercontent.com/a-/AOh14GgT0K2JVYzEsjzsS5nhkUVjUrSIJ5jHzXnBoYrmVf8=s64",
      "userId": "16033870147214403532"
     },
     "user_tz": -60
    },
    "id": "QMnyS4fj1Aea",
    "outputId": "03cde575-0f86-41e7-b692-e3b564c32678"
   },
   "outputs": [
    {
     "name": "stdout",
     "output_type": "stream",
     "text": [
      "smaller than 2\n"
     ]
    }
   ],
   "source": [
    "a = 1\n",
    "if a < 2:\n",
    "    print('smaller than 2')\n",
    "elif a < 5:\n",
    "    print('smaller than 5')"
   ]
  },
  {
   "cell_type": "markdown",
   "metadata": {
    "id": "LEHdCfKv1Aea"
   },
   "source": [
    "Note that the if statement stops the **first** time a condition is verified. Finally we can use the else statement if none of the previous conditions is realized."
   ]
  },
  {
   "cell_type": "code",
   "execution_count": 6,
   "metadata": {
    "colab": {
     "base_uri": "https://localhost:8080/"
    },
    "executionInfo": {
     "elapsed": 1441,
     "status": "ok",
     "timestamp": 1616247235268,
     "user": {
      "displayName": "Guillaume Witz",
      "photoUrl": "https://lh3.googleusercontent.com/a-/AOh14GgT0K2JVYzEsjzsS5nhkUVjUrSIJ5jHzXnBoYrmVf8=s64",
      "userId": "16033870147214403532"
     },
     "user_tz": -60
    },
    "id": "vHRx6SKr1Aea",
    "outputId": "af81ed56-001b-4e1f-98b7-c061e1e81198"
   },
   "outputs": [
    {
     "name": "stdout",
     "output_type": "stream",
     "text": [
      "larger than 5\n"
     ]
    }
   ],
   "source": [
    "a = 10\n",
    "if a < 2:\n",
    "    print('smaller than 2')\n",
    "elif a < 5:\n",
    "    print('smaller than 5')\n",
    "else:\n",
    "    print('larger than 5')"
   ]
  },
  {
   "cell_type": "markdown",
   "metadata": {
    "id": "XD0zMmI31AeP"
   },
   "source": [
    "## Simple looping\n",
    "\n",
    "The ```for``` statement allows us to repeatedly execute a code of block that follows this statement. ```for``` is executed for each element in a list. That element of the list can be only used for counting purposes (I want to repeat the operation 3 times, so ```for``` is applied for each element in the list ```[0, 1, 2]``` or I can actually use the elements if the list if they have a meaning.\n",
    "\n",
    "Let's see an example with a simple list:"
   ]
  },
  {
   "cell_type": "code",
   "execution_count": 7,
   "metadata": {
    "executionInfo": {
     "elapsed": 1520,
     "status": "ok",
     "timestamp": 1616247235258,
     "user": {
      "displayName": "Guillaume Witz",
      "photoUrl": "https://lh3.googleusercontent.com/a-/AOh14GgT0K2JVYzEsjzsS5nhkUVjUrSIJ5jHzXnBoYrmVf8=s64",
      "userId": "16033870147214403532"
     },
     "user_tz": -60
    },
    "id": "ARO8cp431AeS"
   },
   "outputs": [],
   "source": [
    "mylist = [8,3,9,20,27]"
   ]
  },
  {
   "cell_type": "markdown",
   "metadata": {
    "id": "k7BtXGlp1AeT"
   },
   "source": [
    "Let's imagine now that we want to calculate the square of each of these numbers. In English, one would say that \"**for** each element **in** mylist, calculate the square of the element\".\n",
    "\n",
    "Luckily the Python syntax is designed to be intuitive and the Python code that does this is:"
   ]
  },
  {
   "cell_type": "code",
   "execution_count": 2,
   "metadata": {
    "executionInfo": {
     "elapsed": 1517,
     "status": "ok",
     "timestamp": 1616247235259,
     "user": {
      "displayName": "Guillaume Witz",
      "photoUrl": "https://lh3.googleusercontent.com/a-/AOh14GgT0K2JVYzEsjzsS5nhkUVjUrSIJ5jHzXnBoYrmVf8=s64",
      "userId": "16033870147214403532"
     },
     "user_tz": -60
    },
    "id": "-LQ8BLOa1AeU"
   },
   "outputs": [],
   "source": [
    "for x in mylist:\n",
    "    x**2"
   ]
  },
  {
   "cell_type": "markdown",
   "metadata": {
    "id": "CaER4yqZ1AeU"
   },
   "source": [
    "x just stands for the currently selected element from mylist. Note that:\n",
    "1. The for loop starts with the ```for``` statement\n",
    "2. The list used for iteration is specified, here ```mylist```\n",
    "1. Again the for loop definition ends with ```:```\n",
    "2. The content of the loop is **indented**\n",
    "\n",
    "You can also note that when we execute the cell nothing happens. This is because no graphical output is generated fro for loops. If we want to see the actual value we have to use the ```print()``` function:"
   ]
  },
  {
   "cell_type": "code",
   "execution_count": 8,
   "metadata": {
    "colab": {
     "base_uri": "https://localhost:8080/"
    },
    "executionInfo": {
     "elapsed": 1487,
     "status": "ok",
     "timestamp": 1616247235260,
     "user": {
      "displayName": "Guillaume Witz",
      "photoUrl": "https://lh3.googleusercontent.com/a-/AOh14GgT0K2JVYzEsjzsS5nhkUVjUrSIJ5jHzXnBoYrmVf8=s64",
      "userId": "16033870147214403532"
     },
     "user_tz": -60
    },
    "id": "e--JuMn21AeU",
    "outputId": "48244acd-77e9-4623-d532-35e82e6750b1"
   },
   "outputs": [
    {
     "name": "stdout",
     "output_type": "stream",
     "text": [
      "729\n"
     ]
    }
   ],
   "source": [
    "for x in mylist:\n",
    "    value_squared = x**2\n",
    "print(value_squared)"
   ]
  },
  {
   "cell_type": "markdown",
   "metadata": {
    "id": "vB4ew9BK1AeV"
   },
   "source": [
    "Only the last value is printed because we put the ```print()``` function outside the loop. If we want to see each value we have to **indent** the ```print()``` call so that it is included in the loop:"
   ]
  },
  {
   "cell_type": "code",
   "execution_count": 9,
   "metadata": {
    "colab": {
     "base_uri": "https://localhost:8080/"
    },
    "executionInfo": {
     "elapsed": 1478,
     "status": "ok",
     "timestamp": 1616247235261,
     "user": {
      "displayName": "Guillaume Witz",
      "photoUrl": "https://lh3.googleusercontent.com/a-/AOh14GgT0K2JVYzEsjzsS5nhkUVjUrSIJ5jHzXnBoYrmVf8=s64",
      "userId": "16033870147214403532"
     },
     "user_tz": -60
    },
    "id": "iyFllxfg1AeW",
    "outputId": "6fc84996-1aba-4b34-a181-425e96c05850"
   },
   "outputs": [
    {
     "name": "stdout",
     "output_type": "stream",
     "text": [
      "64\n",
      "9\n",
      "81\n",
      "400\n",
      "729\n"
     ]
    }
   ],
   "source": [
    "for x in mylist:\n",
    "    value_squared = x**2\n",
    "    print(value_squared)"
   ]
  },
  {
   "cell_type": "markdown",
   "metadata": {
    "id": "RYfw4Prt1AeX"
   },
   "source": [
    "## Looping using a range"
   ]
  },
  {
   "cell_type": "markdown",
   "metadata": {
    "id": "Vfs0_Lpy1AeX"
   },
   "source": [
    "Often we don't want to loop over the content of a list but just want to do some operation N times or for indexes from 0 to N. To do that, we can use the built-in ```range()``` function that just does this: it provides numbers within a certainrange. The function doesn't really produce a list per se but can be used as if it were one. For example:"
   ]
  },
  {
   "cell_type": "code",
   "execution_count": 10,
   "metadata": {
    "colab": {
     "base_uri": "https://localhost:8080/"
    },
    "executionInfo": {
     "elapsed": 1469,
     "status": "ok",
     "timestamp": 1616247235261,
     "user": {
      "displayName": "Guillaume Witz",
      "photoUrl": "https://lh3.googleusercontent.com/a-/AOh14GgT0K2JVYzEsjzsS5nhkUVjUrSIJ5jHzXnBoYrmVf8=s64",
      "userId": "16033870147214403532"
     },
     "user_tz": -60
    },
    "id": "Itgk8Vi21AeX",
    "outputId": "47ccb997-7854-4d89-8a94-f8a89a4f8c8a"
   },
   "outputs": [
    {
     "name": "stdout",
     "output_type": "stream",
     "text": [
      "0\n",
      "1\n",
      "2\n",
      "3\n",
      "4\n",
      "5\n",
      "6\n",
      "7\n"
     ]
    }
   ],
   "source": [
    "for x in range(8):\n",
    "    print(x)"
   ]
  },
  {
   "cell_type": "markdown",
   "metadata": {
    "id": "To6Djk0I1AeX"
   },
   "source": [
    "Note that as always the first index is not 0 but 8. Of course we could use these indexes to access specific parts of a list. Coming back to the previous example, we might want to calculate the square only of the three first numbers:"
   ]
  },
  {
   "cell_type": "code",
   "execution_count": 11,
   "metadata": {
    "colab": {
     "base_uri": "https://localhost:8080/"
    },
    "executionInfo": {
     "elapsed": 1460,
     "status": "ok",
     "timestamp": 1616247235262,
     "user": {
      "displayName": "Guillaume Witz",
      "photoUrl": "https://lh3.googleusercontent.com/a-/AOh14GgT0K2JVYzEsjzsS5nhkUVjUrSIJ5jHzXnBoYrmVf8=s64",
      "userId": "16033870147214403532"
     },
     "user_tz": -60
    },
    "id": "-MofXPcF1AeY",
    "outputId": "42f92cf2-e905-4dea-88d8-a43bb4a45822"
   },
   "outputs": [
    {
     "name": "stdout",
     "output_type": "stream",
     "text": [
      "64\n",
      "9\n",
      "81\n"
     ]
    }
   ],
   "source": [
    "for x in range(3):\n",
    "    value_squared = mylist[x]**2\n",
    "    print(value_squared)"
   ]
  },
  {
   "cell_type": "markdown",
   "metadata": {
    "id": "rUPGf39O1AeY"
   },
   "source": [
    "With ```mylist[x]``` we simply use the numbers generated by ```range()``` as indexes of our list.\n",
    "\n",
    "Another type of loop available in most programming languages is the while loop. We are not going to used it today, but you should definitely learn about it."
   ]
  },
  {
   "cell_type": "markdown",
   "metadata": {
    "id": "HzYlCmCI1Aea"
   },
   "source": [
    "## Mixing for and if"
   ]
  },
  {
   "cell_type": "markdown",
   "metadata": {
    "id": "XxjS_Al91Aeb"
   },
   "source": [
    "Let's mix both ```if``` and ```for``` logics and say now that we only want to calculate the square of numbers larger than 10 in ```mylist```. We can integrate our ```if``` condition in the ```for``` loop:"
   ]
  },
  {
   "cell_type": "code",
   "execution_count": 12,
   "metadata": {
    "colab": {
     "base_uri": "https://localhost:8080/"
    },
    "executionInfo": {
     "elapsed": 1433,
     "status": "ok",
     "timestamp": 1616247235269,
     "user": {
      "displayName": "Guillaume Witz",
      "photoUrl": "https://lh3.googleusercontent.com/a-/AOh14GgT0K2JVYzEsjzsS5nhkUVjUrSIJ5jHzXnBoYrmVf8=s64",
      "userId": "16033870147214403532"
     },
     "user_tz": -60
    },
    "id": "XijZh45b1Aeb",
    "outputId": "1e7ca0ed-d133-4230-e508-1a2406b170e1"
   },
   "outputs": [
    {
     "name": "stdout",
     "output_type": "stream",
     "text": [
      "400\n",
      "729\n"
     ]
    }
   ],
   "source": [
    "mylist = [8,3,9,20,27]\n",
    "\n",
    "for x in mylist:\n",
    "    \n",
    "    if x > 10:\n",
    "    \n",
    "        value_squared = x**2\n",
    "        print(value_squared)"
   ]
  },
  {
   "cell_type": "markdown",
   "metadata": {
    "id": "sc4xInoA1Aee"
   },
   "source": [
    "Note how we create different levels of indentation. Everything which belongs to the for loop is indented once, including the if statement. But everything that belongs to the if statement is also indented relative to it, and so ends up **indented twice**."
   ]
  }
 ],
 "metadata": {
  "colab": {
   "collapsed_sections": [],
   "name": "05-Loops_conditions.ipynb",
   "provenance": []
  },
  "kernelspec": {
   "display_name": "Python 3 (ipykernel)",
   "language": "python",
   "name": "python3"
  },
  "language_info": {
   "codemirror_mode": {
    "name": "ipython",
    "version": 3
   },
   "file_extension": ".py",
   "mimetype": "text/x-python",
   "name": "python",
   "nbconvert_exporter": "python",
   "pygments_lexer": "ipython3",
   "version": "3.9.10"
  },
  "toc": {
   "base_numbering": 1,
   "nav_menu": {},
   "number_sections": false,
   "sideBar": true,
   "skip_h1_title": false,
   "title_cell": "Table of Contents",
   "title_sidebar": "Contents",
   "toc_cell": false,
   "toc_position": {
    "height": "calc(100% - 180px)",
    "left": "10px",
    "top": "150px",
    "width": "245px"
   },
   "toc_section_display": true,
   "toc_window_display": true
  }
 },
 "nbformat": 4,
 "nbformat_minor": 4
}
